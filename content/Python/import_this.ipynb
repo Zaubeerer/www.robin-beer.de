{
 "cells": [
  {
   "cell_type": "markdown",
   "metadata": {},
   "source": [
    "- title: import this\n",
    "- date: 2020-04-02\n",
    "- tags: Jupyter, Python\n",
    "- slug: import this\n",
    "- authors: Robin Beer\n",
    "- summary: Testing jupyter notebook support of the blog by importing this"
   ]
  },
  {
   "cell_type": "markdown",
   "metadata": {},
   "source": [
    "I really like how PEP20 combines both good coding principles as well as humor.\n",
    "\n",
    "What do you think should be the 20th guideline?"
   ]
  },
  {
   "cell_type": "code",
   "execution_count": null,
   "metadata": {},
   "outputs": [],
   "source": [
    "import this"
   ]
  },
  {
   "cell_type": "markdown",
   "metadata": {},
   "source": [
    "Although it's handy to always have PEP20 at hand using `import this`, you might want to check out this visualization:"
   ]
  },
  {
   "cell_type": "markdown",
   "metadata": {},
   "source": [
    "<img src=\"https://sowhatbigfatloser.com/content/images/2019/03/zen_of_python_poster_by_ewjoachim-d6kg2kb.png\" alt=\"PEP20 visualization\" object-fit=\"contain\">"
   ]
  },
  {
   "cell_type": "markdown",
   "metadata": {},
   "source": [
    "Let's write efficient code, both for machines and humans!"
   ]
  }
 ],
 "metadata": {
  "file_extension": ".py",
  "kernelspec": {
   "display_name": "Python 3.10.6 ('blog_conda')",
   "language": "python",
   "name": "python3"
  },
  "language_info": {
   "codemirror_mode": {
    "name": "ipython",
    "version": 3
   },
   "file_extension": ".py",
   "mimetype": "text/x-python",
   "name": "python",
   "nbconvert_exporter": "python",
   "pygments_lexer": "ipython3",
   "version": "3.10.6"
  },
  "mimetype": "text/x-python",
  "name": "python",
  "npconvert_exporter": "python",
  "orig_nbformat": 2,
  "pygments_lexer": "ipython3",
  "version": 3,
  "vscode": {
   "interpreter": {
    "hash": "acbbcd5c4fd454504e340ee550698c34761e1040bdfdfaf5d4931f4822234fcb"
   }
  }
 },
 "nbformat": 4,
 "nbformat_minor": 2
}
